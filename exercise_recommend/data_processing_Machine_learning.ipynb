{
 "cells": [
  {
   "cell_type": "code",
   "execution_count": 20,
   "metadata": {},
   "outputs": [],
   "source": [
    "import pandas as pd\n",
    "import pandas as pd\n",
    "from sklearn.preprocessing import LabelEncoder\n",
    "import joblib\n",
    "import pandas as pd\n",
    "from sklearn.model_selection import train_test_split, GridSearchCV\n",
    "from sklearn.ensemble import RandomForestClassifier\n",
    "from sklearn.preprocessing import StandardScaler, OneHotEncoder\n",
    "from sklearn.compose import ColumnTransformer\n",
    "from sklearn.pipeline import Pipeline\n",
    "from sklearn.metrics import accuracy_score\n",
    "import joblib"
   ]
  },
  {
   "cell_type": "code",
   "execution_count": 21,
   "metadata": {},
   "outputs": [],
   "source": [
    "df = pd.read_csv(\"dataset/output_file.csv\")\n",
    "df['sex'] = df['sex'].map({'female': 0, 'male': 1})"
   ]
  },
  {
   "cell_type": "code",
   "execution_count": 22,
   "metadata": {},
   "outputs": [
    {
     "data": {
      "text/html": [
       "<div>\n",
       "<style scoped>\n",
       "    .dataframe tbody tr th:only-of-type {\n",
       "        vertical-align: middle;\n",
       "    }\n",
       "\n",
       "    .dataframe tbody tr th {\n",
       "        vertical-align: top;\n",
       "    }\n",
       "\n",
       "    .dataframe thead th {\n",
       "        text-align: right;\n",
       "    }\n",
       "</style>\n",
       "<table border=\"1\" class=\"dataframe\">\n",
       "  <thead>\n",
       "    <tr style=\"text-align: right;\">\n",
       "      <th></th>\n",
       "      <th>age</th>\n",
       "      <th>height</th>\n",
       "      <th>sex</th>\n",
       "      <th>days_to_goal</th>\n",
       "      <th>activity_level</th>\n",
       "      <th>experience</th>\n",
       "      <th>Exercise</th>\n",
       "    </tr>\n",
       "  </thead>\n",
       "  <tbody>\n",
       "    <tr>\n",
       "      <th>0</th>\n",
       "      <td>56</td>\n",
       "      <td>178</td>\n",
       "      <td>0</td>\n",
       "      <td>108</td>\n",
       "      <td>4</td>\n",
       "      <td>4</td>\n",
       "      <td>Hammer Curls, Chest Flyes, Seated Rows, Overhe...</td>\n",
       "    </tr>\n",
       "    <tr>\n",
       "      <th>1</th>\n",
       "      <td>35</td>\n",
       "      <td>178</td>\n",
       "      <td>1</td>\n",
       "      <td>109</td>\n",
       "      <td>1</td>\n",
       "      <td>1</td>\n",
       "      <td>Hammer Curls, Chest Flyes, Seated Rows, Overhe...</td>\n",
       "    </tr>\n",
       "    <tr>\n",
       "      <th>2</th>\n",
       "      <td>43</td>\n",
       "      <td>172</td>\n",
       "      <td>1</td>\n",
       "      <td>143</td>\n",
       "      <td>4</td>\n",
       "      <td>5</td>\n",
       "      <td>Hammer Curls, Chest Flyes, Seated Rows, Overhe...</td>\n",
       "    </tr>\n",
       "    <tr>\n",
       "      <th>3</th>\n",
       "      <td>25</td>\n",
       "      <td>185</td>\n",
       "      <td>1</td>\n",
       "      <td>130</td>\n",
       "      <td>4</td>\n",
       "      <td>3</td>\n",
       "      <td>Hammer Curls, Chest Flyes, Seated Rows, Overhe...</td>\n",
       "    </tr>\n",
       "    <tr>\n",
       "      <th>4</th>\n",
       "      <td>57</td>\n",
       "      <td>170</td>\n",
       "      <td>1</td>\n",
       "      <td>139</td>\n",
       "      <td>2</td>\n",
       "      <td>3</td>\n",
       "      <td>Hammer Curls, Chest Flyes, Seated Rows, Overhe...</td>\n",
       "    </tr>\n",
       "    <tr>\n",
       "      <th>...</th>\n",
       "      <td>...</td>\n",
       "      <td>...</td>\n",
       "      <td>...</td>\n",
       "      <td>...</td>\n",
       "      <td>...</td>\n",
       "      <td>...</td>\n",
       "      <td>...</td>\n",
       "    </tr>\n",
       "    <tr>\n",
       "      <th>995</th>\n",
       "      <td>20</td>\n",
       "      <td>174</td>\n",
       "      <td>0</td>\n",
       "      <td>122</td>\n",
       "      <td>1</td>\n",
       "      <td>3</td>\n",
       "      <td>Leg Press, Russian Twists, Face Pulls, 3 sets ...</td>\n",
       "    </tr>\n",
       "    <tr>\n",
       "      <th>996</th>\n",
       "      <td>40</td>\n",
       "      <td>175</td>\n",
       "      <td>0</td>\n",
       "      <td>123</td>\n",
       "      <td>4</td>\n",
       "      <td>1</td>\n",
       "      <td>Leg Press, Russian Twists, Face Pulls, 3 sets ...</td>\n",
       "    </tr>\n",
       "    <tr>\n",
       "      <th>997</th>\n",
       "      <td>51</td>\n",
       "      <td>185</td>\n",
       "      <td>0</td>\n",
       "      <td>134</td>\n",
       "      <td>5</td>\n",
       "      <td>4</td>\n",
       "      <td>Leg Press, Russian Twists, Face Pulls, 3 sets ...</td>\n",
       "    </tr>\n",
       "    <tr>\n",
       "      <th>998</th>\n",
       "      <td>38</td>\n",
       "      <td>171</td>\n",
       "      <td>0</td>\n",
       "      <td>138</td>\n",
       "      <td>4</td>\n",
       "      <td>5</td>\n",
       "      <td>Leg Press, Russian Twists, Face Pulls, 3 sets ...</td>\n",
       "    </tr>\n",
       "    <tr>\n",
       "      <th>999</th>\n",
       "      <td>25</td>\n",
       "      <td>184</td>\n",
       "      <td>1</td>\n",
       "      <td>155</td>\n",
       "      <td>2</td>\n",
       "      <td>4</td>\n",
       "      <td>Leg Press, Russian Twists, Face Pulls, 3 sets ...</td>\n",
       "    </tr>\n",
       "  </tbody>\n",
       "</table>\n",
       "<p>1000 rows × 7 columns</p>\n",
       "</div>"
      ],
      "text/plain": [
       "     age  height  sex  days_to_goal  activity_level  experience  \\\n",
       "0     56     178    0           108               4           4   \n",
       "1     35     178    1           109               1           1   \n",
       "2     43     172    1           143               4           5   \n",
       "3     25     185    1           130               4           3   \n",
       "4     57     170    1           139               2           3   \n",
       "..   ...     ...  ...           ...             ...         ...   \n",
       "995   20     174    0           122               1           3   \n",
       "996   40     175    0           123               4           1   \n",
       "997   51     185    0           134               5           4   \n",
       "998   38     171    0           138               4           5   \n",
       "999   25     184    1           155               2           4   \n",
       "\n",
       "                                              Exercise  \n",
       "0    Hammer Curls, Chest Flyes, Seated Rows, Overhe...  \n",
       "1    Hammer Curls, Chest Flyes, Seated Rows, Overhe...  \n",
       "2    Hammer Curls, Chest Flyes, Seated Rows, Overhe...  \n",
       "3    Hammer Curls, Chest Flyes, Seated Rows, Overhe...  \n",
       "4    Hammer Curls, Chest Flyes, Seated Rows, Overhe...  \n",
       "..                                                 ...  \n",
       "995  Leg Press, Russian Twists, Face Pulls, 3 sets ...  \n",
       "996  Leg Press, Russian Twists, Face Pulls, 3 sets ...  \n",
       "997  Leg Press, Russian Twists, Face Pulls, 3 sets ...  \n",
       "998  Leg Press, Russian Twists, Face Pulls, 3 sets ...  \n",
       "999  Leg Press, Russian Twists, Face Pulls, 3 sets ...  \n",
       "\n",
       "[1000 rows x 7 columns]"
      ]
     },
     "execution_count": 22,
     "metadata": {},
     "output_type": "execute_result"
    }
   ],
   "source": [
    "df"
   ]
  },
  {
   "cell_type": "code",
   "execution_count": 23,
   "metadata": {},
   "outputs": [
    {
     "name": "stdout",
     "output_type": "stream",
     "text": [
      "<class 'pandas.core.frame.DataFrame'>\n",
      "RangeIndex: 1000 entries, 0 to 999\n",
      "Data columns (total 7 columns):\n",
      " #   Column          Non-Null Count  Dtype \n",
      "---  ------          --------------  ----- \n",
      " 0   age             1000 non-null   int64 \n",
      " 1   height          1000 non-null   int64 \n",
      " 2   sex             1000 non-null   int64 \n",
      " 3   days_to_goal    1000 non-null   int64 \n",
      " 4   activity_level  1000 non-null   int64 \n",
      " 5   experience      1000 non-null   int64 \n",
      " 6   Exercise        1000 non-null   object\n",
      "dtypes: int64(6), object(1)\n",
      "memory usage: 54.8+ KB\n"
     ]
    }
   ],
   "source": [
    "df.info()"
   ]
  },
  {
   "cell_type": "code",
   "execution_count": 24,
   "metadata": {},
   "outputs": [
    {
     "name": "stdout",
     "output_type": "stream",
     "text": [
      "Best Parameters:\n",
      "{'classifier__max_depth': 10, 'classifier__n_estimators': 100}\n"
     ]
    }
   ],
   "source": [
    "# Assuming your DataFrame is named 'df'\n",
    "df['Exercise'] = df['Exercise'].astype('category')\n",
    "\n",
    "# Separate features (X) and target variable (y)\n",
    "X = df.drop('Exercise', axis=1)\n",
    "y = df['Exercise']\n",
    "\n",
    "# Split the dataset into training and testing sets\n",
    "X_train, X_test, y_train, y_test = train_test_split(X, y, test_size=0.2, random_state=42)\n",
    "\n",
    "# Define preprocessing steps for numerical and categorical features\n",
    "numeric_features = X.select_dtypes(include=['int64']).columns\n",
    "numeric_transformer = StandardScaler()\n",
    "\n",
    "categorical_features = X.select_dtypes(include=['category']).columns\n",
    "categorical_transformer = OneHotEncoder()\n",
    "\n",
    "preprocessor = ColumnTransformer(\n",
    "    transformers=[\n",
    "        ('num', numeric_transformer, numeric_features),\n",
    "        ('cat', categorical_transformer, categorical_features)\n",
    "    ])\n",
    "\n",
    "# Create a pipeline with preprocessing and RandomForestClassifier\n",
    "pipeline = Pipeline(steps=[('preprocessor', preprocessor),\n",
    "                             ('classifier', RandomForestClassifier(random_state=42))])\n",
    "\n",
    "# Define hyperparameters to tune\n",
    "param_grid = {\n",
    "    'classifier__n_estimators': [100, 200, 300],\n",
    "    'classifier__max_depth': [None, 10, 20, 30]\n",
    "}\n",
    "\n",
    "# Perform grid search with cross-validation\n",
    "grid_search = GridSearchCV(pipeline, param_grid, cv=8, scoring='accuracy')\n",
    "grid_search.fit(X_train, y_train)\n",
    "\n",
    "# Print the best parameters found by the grid search\n",
    "print(\"Best Parameters:\")\n",
    "print(grid_search.best_params_)\n",
    "\n",
    "# Save the trained model to a file\n",
    "joblib.dump(grid_search, 'trained_model.joblib')\n",
    "\n",
    "# Make predictions on the test set\n",
    "y_pred = grid_search.predict(X_test)\n"
   ]
  },
  {
   "cell_type": "code",
   "execution_count": 26,
   "metadata": {},
   "outputs": [
    {
     "name": "stdout",
     "output_type": "stream",
     "text": [
      "New Data:\n",
      "   age  height  sex  days_to_goal  activity_level  experience\n",
      "0   30     175    1            10               3           2\n"
     ]
    }
   ],
   "source": [
    "\n",
    "new_data = pd.DataFrame({\n",
    "    'age': [30],\n",
    "    'height': [175],\n",
    "    'sex': [1],\n",
    "    'days_to_goal': [10],\n",
    "    'activity_level': [3],\n",
    "    'experience': [2],\n",
    "})\n",
    "\n",
    "# Display the new data\n",
    "print(\"New Data:\")\n",
    "print(new_data)\n"
   ]
  },
  {
   "cell_type": "code",
   "execution_count": 27,
   "metadata": {},
   "outputs": [],
   "source": [
    "# Load the saved model\n",
    "loaded_model = joblib.load('trained_model.joblib')\n",
    "\n",
    "# Assuming you have new_data for prediction\n",
    "new_data_predictions = loaded_model.predict(new_data)\n"
   ]
  },
  {
   "cell_type": "code",
   "execution_count": 28,
   "metadata": {},
   "outputs": [
    {
     "data": {
      "text/plain": [
       "array(['Arnold Press, Leg Curls, Incline Press, 4 sets (12-10-8-6 reps)'],\n",
       "      dtype=object)"
      ]
     },
     "execution_count": 28,
     "metadata": {},
     "output_type": "execute_result"
    }
   ],
   "source": [
    "new_data_predictions"
   ]
  },
  {
   "cell_type": "code",
   "execution_count": 29,
   "metadata": {},
   "outputs": [
    {
     "name": "stdout",
     "output_type": "stream",
     "text": [
      "Predicted Exercise Category: A\n"
     ]
    }
   ],
   "source": [
    "predicted_label = new_data_predictions[0]\n",
    "\n",
    "print(\"Predicted Exercise Category:\", predicted_label[0])"
   ]
  }
 ],
 "metadata": {
  "kernelspec": {
   "display_name": "Python 3",
   "language": "python",
   "name": "python3"
  },
  "language_info": {
   "codemirror_mode": {
    "name": "ipython",
    "version": 3
   },
   "file_extension": ".py",
   "mimetype": "text/x-python",
   "name": "python",
   "nbconvert_exporter": "python",
   "pygments_lexer": "ipython3",
   "version": "3.11.5"
  },
  "orig_nbformat": 4
 },
 "nbformat": 4,
 "nbformat_minor": 2
}
