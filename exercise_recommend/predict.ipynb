{
 "cells": [
  {
   "cell_type": "code",
   "execution_count": 17,
   "metadata": {},
   "outputs": [],
   "source": [
    "import pandas as pd\n",
    "import joblib\n",
    "from sklearn.preprocessing import LabelEncoder"
   ]
  },
  {
   "cell_type": "code",
   "execution_count": 18,
   "metadata": {},
   "outputs": [
    {
     "name": "stdout",
     "output_type": "stream",
     "text": [
      "New Data:\n",
      "   age  height  sex  days_to_goal  activity_level  experience\n",
      "0   18     175    1           100               3           2\n"
     ]
    }
   ],
   "source": [
    "new_data = pd.DataFrame({\n",
    "    'age': [18],\n",
    "    'height': [175],\n",
    "    'sex': [1],\n",
    "    'days_to_goal': [100],\n",
    "    'activity_level': [3],\n",
    "    'experience': [2],\n",
    "})\n",
    "\n",
    "# Display the new data\n",
    "print(\"New Data:\")\n",
    "print(new_data)\n"
   ]
  },
  {
   "cell_type": "code",
   "execution_count": 19,
   "metadata": {},
   "outputs": [],
   "source": [
    "# Load the saved model\n",
    "loaded_model = joblib.load('trained_model.joblib')\n",
    "\n",
    "# Assuming you have new_data for prediction\n",
    "new_data_predictions = loaded_model.predict(new_data)\n"
   ]
  },
  {
   "cell_type": "code",
   "execution_count": 20,
   "metadata": {},
   "outputs": [
    {
     "name": "stdout",
     "output_type": "stream",
     "text": [
      "Predicted Exercise Category: Face Pulls, Incline Press, Lat Pulldowns, Bicep Curls, 3 sets (10-8-6 reps)\n"
     ]
    }
   ],
   "source": [
    "print(\"Predicted Exercise Category:\", new_data_predictions[0])"
   ]
  }
 ],
 "metadata": {
  "kernelspec": {
   "display_name": ".venv",
   "language": "python",
   "name": "python3"
  },
  "language_info": {
   "codemirror_mode": {
    "name": "ipython",
    "version": 3
   },
   "file_extension": ".py",
   "mimetype": "text/x-python",
   "name": "python",
   "nbconvert_exporter": "python",
   "pygments_lexer": "ipython3",
   "version": "3.11.5"
  },
  "orig_nbformat": 4
 },
 "nbformat": 4,
 "nbformat_minor": 2
}
